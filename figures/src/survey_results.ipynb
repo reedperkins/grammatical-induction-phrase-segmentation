{
 "cells": [
  {
   "cell_type": "code",
   "execution_count": 2,
   "metadata": {},
   "outputs": [],
   "source": [
    "from pathlib import Path\n",
    "import sys\n",
    "import re\n",
    "import json\n",
    "import os\n",
    "from collections import defaultdict\n",
    "sys.path.append('../../src')\n",
    "from common import splitIndexHeaderFromStr\n",
    "sequencesPath = Path('../../datasets/hymns/sequences.txt')\n",
    "assignmentsPath = Path('../../datasets/hymns/misc/assignments.json')\n",
    "surveyPath = Path('../../datasets/hymns/misc/survey_results.csv')"
   ]
  },
  {
   "cell_type": "code",
   "execution_count": 3,
   "metadata": {},
   "outputs": [
    {
     "name": "stdout",
     "output_type": "stream",
     "text": [
      "0 as-i-search-the-holy-scriptures\n",
      "assignment1 ['hear-thou-our-hymn-o-lord', 'sweet-hour-of-prayer']\n",
      "hear-thou-our-hymn-o-lord ['assignment1', 'assignment13', 'assignment26', 'assignment35', 'assignment48']\n",
      "assignment1 [15, 4, 2, 4, 5, 4]\n"
     ]
    }
   ],
   "source": [
    "# Map sequence index to the actual hymn name\n",
    "with open(sequencesPath) as f:\n",
    "    entries = re.split('\\n\\n', f.read())[:-1] # remove trailing empty space\n",
    "reverseSequenceLookup = {} # index: sequenceName\n",
    "for e in entries:\n",
    "    index, hymnFile = splitIndexHeaderFromStr(e)\n",
    "    filePath = Path(hymnFile)\n",
    "    basename = filePath.stem\n",
    "    reverseSequenceLookup[index] = basename\n",
    "\n",
    "# Map hymn name to the list of assignmentAnswersLookup that reference it\n",
    "with open(assignmentsPath) as f:\n",
    "    allAssignments = json.load(f)\n",
    "reverseAssignmentLookup = defaultdict(list) # Hymn name: assignments\n",
    "for assignment, hymnPaths in allAssignments.items():\n",
    "    for p in hymnPaths:\n",
    "        name = p.split('\\\\')[-1].split('.')[0].split('-mono')[0]\n",
    "        reverseAssignmentLookup[name].append(assignment)\n",
    "\n",
    "# Map assignment name to the names of the two hymns it contains (in correct order)\n",
    "with open(assignmentsPath) as f:\n",
    "    allAssignments = json.load(f)\n",
    "assignmentPositionLookup = defaultdict(list) # Hymn name: assignments\n",
    "for assignment, hymnPaths in allAssignments.items():\n",
    "    for p in hymnPaths:\n",
    "        name = p.split('\\\\')[-1].split('.')[0].split('-mono')[0]\n",
    "        assignmentPositionLookup[assignment].append(name)\n",
    "\n",
    "# Map assignment name to survery data \n",
    "with open(surveyPath) as f:\n",
    "    lines = f.readlines()[1:] # Ignore header\n",
    "assignmentAnswersLookup = {}\n",
    "for line in lines:\n",
    "    assignName, years, instClar, h1Fam, h1Diff, h2Fam, h2Diff  = line.strip().split(',')[:7]\n",
    "    if years == 'No answer':\n",
    "        years = 0\n",
    "    assignmentAnswersLookup[assignName] = list(map(int, [years, instClar, h1Fam, h1Diff, h2Fam, h2Diff]))\n",
    "\n",
    "for k, v in reverseSequenceLookup.items():\n",
    "    print(k, v)\n",
    "    break\n",
    "\n",
    "for k, v in assignmentPositionLookup.items():\n",
    "    print(k, v)\n",
    "    break\n",
    "\n",
    "for k, v in reverseAssignmentLookup.items():\n",
    "    print(k, v)\n",
    "    break\n",
    "\n",
    "for k, v in assignmentAnswersLookup.items():\n",
    "    print(k, v)\n",
    "    break"
   ]
  },
  {
   "cell_type": "code",
   "execution_count": 4,
   "metadata": {},
   "outputs": [],
   "source": [
    "# Some of the likert scales were labeled poorly. A difficulty of \"5\"\n",
    "# means the least difficult (intuitively, a \"1\" would be better)\n",
    "invert = {\n",
    "    5: 1,\n",
    "    4: 2, \n",
    "    3: 3,\n",
    "    2: 4, \n",
    "    1: 5 \n",
    "}\n",
    "\n",
    "def mean(iter):\n",
    "    return sum(iter) / len(iter)\n",
    "\n",
    "def flatten(container):\n",
    "    for i in container:\n",
    "        if isinstance(i, (list,tuple)):\n",
    "            yield from flatten(i)\n",
    "        else:\n",
    "            yield i\n",
    "\n",
    "# Map assignment name to its difficulty/familiarity data\n",
    "diffs = defaultdict(list)\n",
    "fams = defaultdict(list)\n",
    "for index, name in reverseSequenceLookup.items():\n",
    "    for assignment in reverseAssignmentLookup[name]:\n",
    "        years, instClar, h1Fam, h1Diff, h2Fam, h2Diff = assignmentAnswersLookup[assignment]\n",
    "        bothDiffs = [h1Diff, h2Diff]\n",
    "        bothFams = [h1Fam, h2Fam]\n",
    "        for i, position in enumerate(assignmentPositionLookup[assignment]):\n",
    "            if position == name:\n",
    "                diffs[name].append(invert[bothDiffs[i]])\n",
    "                fams[name].append(bothFams[i])\n",
    "                break\n",
    "\n",
    "csv = []\n",
    "csv.append('Sequence Index, Difficulty,,,,,, Familiarity,,,,,')\n",
    "csv.append(',Ann 1, 2, 3, 4, 5, Mean, Ann 1, 2, 3, 4, 5, Mean')\n",
    "for index, name in reverseSequenceLookup.items():\n",
    "    diffStr = ', '.join(map(str, diffs[name]))\n",
    "    famStr = ', '.join(map(str, fams[name]))\n",
    "    csv.append(f'{index}, {diffStr}, {mean(diffs[name])}, {famStr}, {mean(fams[name])}')\n",
    "\n",
    "allDiffs = list(flatten(diffs.values()))\n",
    "allFams = list(flatten(fams.values()))\n",
    "csv.append(f'Mean,,,,,,{mean(allDiffs)},,,,,,{mean(allFams)}')\n",
    "\n",
    "# Create a csv file and genereate the latex table with https://www.tablesgenerator.com\n",
    "with open('diffFam.csv', 'w') as f:\n",
    "    f.write('\\n'.join(csv))"
   ]
  },
  {
   "cell_type": "code",
   "execution_count": 5,
   "metadata": {},
   "outputs": [],
   "source": [
    "# Some of the likert scales were labeled poorly. A difficulty of \"5\"\n",
    "# means the least difficult (intuitively, a \"1\" would be better)\n",
    "invert = {\n",
    "    5: 1,\n",
    "    4: 2, \n",
    "    3: 3,\n",
    "    2: 4, \n",
    "    1: 5 \n",
    "}\n",
    "\n",
    "def mean(iter):\n",
    "    return sum(iter) / len(iter)\n",
    "\n",
    "def flatten(container):\n",
    "    for i in container:\n",
    "        if isinstance(i, (list,tuple)):\n",
    "            yield from flatten(i)\n",
    "        else:\n",
    "            yield i\n",
    "\n",
    "# Map assignment name to its difficulty/familiarity data\n",
    "diffs = defaultdict(list)\n",
    "fams = defaultdict(list)\n",
    "clars = defaultdict(list)\n",
    "for index, name in reverseSequenceLookup.items():\n",
    "    for assignment in reverseAssignmentLookup[name]:\n",
    "        years, instClar, h1Fam, h1Diff, h2Fam, h2Diff = assignmentAnswersLookup[assignment]\n",
    "        bothDiffs = [h1Diff, h2Diff]\n",
    "        bothFams = [h1Fam, h2Fam]\n",
    "        for i, position in enumerate(assignmentPositionLookup[assignment]):\n",
    "            if position == name:\n",
    "                diffs[name].append(invert[bothDiffs[i]])\n",
    "                fams[name].append(bothFams[i])\n",
    "                break\n",
    "        clars[name].append(instClar)\n",
    "\n",
    "csv = []\n",
    "csv.append('Sequence Index, Difficulty,,,,,, Familiarity,,,,,, Clarity,,,,,')\n",
    "csv.append(',Ann 1, 2, 3, 4, 5, Mean, Ann 1, 2, 3, 4, 5, Mean, Ann 1, 2, 3, 4, 5, Mean')\n",
    "for index, name in reverseSequenceLookup.items():\n",
    "    diffStr = ', '.join(map(str, diffs[name]))\n",
    "    famStr = ', '.join(map(str, fams[name]))\n",
    "    clarStr = ', '.join(map(str, clars[name]))\n",
    "    csv.append(f'{index}, {diffStr}, {mean(diffs[name])}, {famStr}, {mean(fams[name])}, {clarStr}, {mean(clars[name])}')\n",
    "\n",
    "allDiffs = list(flatten(diffs.values()))\n",
    "allFams = list(flatten(fams.values()))\n",
    "allClars = list(flatten(clars.values()))\n",
    "csv.append(f'Mean,,,,,,{mean(allDiffs)},,,,,,{mean(allFams)},,,,,,{mean(allClars)}')\n",
    "\n",
    "# Create a csv file and genereate the latex table with https://www.tablesgenerator.com\n",
    "with open('diffFam.csv', 'w') as f:\n",
    "    f.write('\\n'.join(csv))"
   ]
  },
  {
   "cell_type": "code",
   "execution_count": 6,
   "metadata": {},
   "outputs": [
    {
     "data": {
      "image/png": "[encoded data removed]",
      "text/plain": [
       "<Figure size 432x288 with 1 Axes>"
      ]
     },
     "metadata": {
      "needs_background": "light"
     },
     "output_type": "display_data"
    }
   ],
   "source": [
    "from matplotlib import pyplot as plt\n",
    "import numpy as np\n",
    "# Map difficult value to list of familiarities for that value\n",
    "diffs = defaultdict(list)\n",
    "for fam, diff in zip(allFams, allDiffs):\n",
    "    diffs[diff].append(fam)\n",
    "\n",
    "diffs = {k: list(sorted(v)) for k, v in diffs.items()}\n",
    "\n",
    "counts = {\n",
    "    1: [0, 0, 0, 0, 0], \n",
    "    2: [0, 0, 0, 0, 0],\n",
    "    3: [0, 0, 0, 0, 0],\n",
    "    4: [0, 0, 0, 0, 0], \n",
    "    5: [0, 0, 0, 0, 0]\n",
    "}\n",
    "for k, v in diffs.items():\n",
    "    for famRating in set(v):\n",
    "        count = v.count(famRating)\n",
    "        # print('*', famRating, count)\n",
    "        counts[k][famRating-1] = count\n",
    "\n",
    "labels = [1, 2, 3, 4, 5]\n",
    "colors = ['black', 'green', 'blue', 'yellow', 'red']\n",
    "\n",
    "fig, ax = plt.subplots()\n",
    "oldHeights = np.array([0, 0, 0, 0, 0])\n",
    "for i, (k, _) in enumerate(counts.items()):\n",
    "    newHeights = np.array([v[i] for v in counts.values()])\n",
    "    ax.bar(labels, newHeights, bottom=oldHeights, label=labels[i])\n",
    "    oldHeights = oldHeights + newHeights\n",
    "ax.legend(title='Familiarity Rating')\n",
    "ax.set_xlabel('Difficulty Rating')\n",
    "ax.set_ylabel('Number of Responses')\n",
    "ax.set_title('Survey Responses')\n",
    "fig.savefig('survey_responses')"
   ]
  },
  {
   "cell_type": "code",
   "execution_count": 12,
   "metadata": {},
   "outputs": [
    {
     "name": "stdout",
     "output_type": "stream",
     "text": [
      "1 [4, 7, 8, 8, 19]\n",
      "2 [8, 7, 7, 2, 6]\n",
      "3 [11, 4, 4, 1, 2]\n",
      "4 [0, 1, 1, 0, 0]\n",
      "5 [0, 0, 0, 0, 0]\n",
      "58.69565217391305\n",
      "8.695652173913043\n",
      "13.636363636363635\n",
      "50.0\n"
     ]
    }
   ],
   "source": [
    "def calcPercentage(a, b):\n",
    "    '''Return a / b as a percentage'''\n",
    "    return a / b * 100\n",
    "\n",
    "for k, v in counts.items():\n",
    "    print(k, v)\n",
    "print(calcPercentage(sum(counts[1][3:]), sum(counts[1])))\n",
    "print(calcPercentage(sum(counts[1][:1]), sum(counts[1])))\n",
    "\n",
    "print(calcPercentage(sum(counts[3][3:]), sum(counts[3])))\n",
    "print(calcPercentage(sum(counts[3][:1]), sum(counts[3])))"
   ]
  },
  {
   "cell_type": "code",
   "execution_count": 14,
   "metadata": {},
   "outputs": [
    {
     "name": "stdout",
     "output_type": "stream",
     "text": [
      "[15, 17, 10, 15, 8, 15, 14, 9, 25, 13, 15, 13, 13, 0, 12, 16, 13, 11, 17, 5, 13, 13, 14, 14, 15, 12, 14, 25, 10, 16, 4, 15, 10, 17, 15, 17, 17, 25, 14, 16, 15, 16, 15, 15, 25, 25, 25, 25, 25, 25]\n",
      "15.26\n"
     ]
    },
    {
     "data": {
      "image/png": "[encoded data removed]",
      "text/plain": [
       "<Figure size 432x288 with 1 Axes>"
      ]
     },
     "metadata": {
      "needs_background": "light"
     },
     "output_type": "display_data"
    }
   ],
   "source": [
    "years = [a[0] for a in assignmentAnswersLookup.values()]\n",
    "print(years)\n",
    "print(np.mean(years))\n",
    "fig, ax = plt.subplots()\n",
    "ax.hist(years, bins=25, linewidth=0.2, edgecolor='white')\n",
    "ax.set_title('Years of Musical Training Per Participant')\n",
    "ax.set_ylabel('Percentage of Participants')\n",
    "ax.set_xlabel('Years of Musical Training')\n",
    "fig.show()"
   ]
  },
  {
   "cell_type": "code",
   "execution_count": null,
   "metadata": {},
   "outputs": [],
   "source": []
  }
 ],
 "metadata": {
  "interpreter": {
   "hash": "31f2aee4e71d21fbe5cf8b01ff0e069b9275f58929596ceb00d14d90e3e16cd6"
  },
  "kernelspec": {
   "display_name": "Python 3.8.10 64-bit",
   "language": "python",
   "name": "python3"
  },
  "language_info": {
   "codemirror_mode": {
    "name": "ipython",
    "version": 3
   },
   "file_extension": ".py",
   "mimetype": "text/x-python",
   "name": "python",
   "nbconvert_exporter": "python",
   "pygments_lexer": "ipython3",
   "version": "3.8.10"
  },
  "orig_nbformat": 4
 },
 "nbformat": 4,
 "nbformat_minor": 2
}
