{
 "cells": [
  {
   "cell_type": "code",
   "execution_count": 14,
   "metadata": {},
   "outputs": [],
   "source": [
    "from music21 import converter\n",
    "from music21.vexflow.toMusic21j import fromObject\n",
    "from pathlib import Path\n",
    "import sys\n",
    "sys.path.append('../../src')\n",
    "# from common import gzPickleIter\n",
    "# hymnsPath = Path('../../datasets/hymns/hymns.pkl.gz')\n",
    "hymnsPath = Path('../../datasets/hymns/sequences.txt')\n",
    "from hymns import load2 as loadHymnSequences"
   ]
  },
  {
   "cell_type": "code",
   "execution_count": 15,
   "metadata": {},
   "outputs": [
    {
     "name": "stdout",
     "output_type": "stream",
     "text": [
      "Loading sequences\n"
     ]
    },
    {
     "name": "stderr",
     "output_type": "stream",
     "text": [
      "100%|██████████| 20/20 [00:01<00:00, 16.89it/s]\n"
     ]
    }
   ],
   "source": [
    "data = loadHymnSequences(hymnsPath)"
   ]
  },
  {
   "cell_type": "code",
   "execution_count": 16,
   "metadata": {},
   "outputs": [],
   "source": [
    "data[6].show('musicxml')"
   ]
  },
  {
   "cell_type": "code",
   "execution_count": null,
   "metadata": {},
   "outputs": [],
   "source": []
  },
  {
   "cell_type": "code",
   "execution_count": 7,
   "metadata": {},
   "outputs": [],
   "source": [
    "from essen import load2 as loadEssenSequences\n",
    "from essen import loadSequenceFile\n",
    "essenPath = Path('../../datasets/essen/sequences.txt')\n",
    "data = loadEssenSequences(essenPath)\n",
    "for d in data:\n",
    "    index, score = d\n",
    "    if index == 42:\n",
    "        break"
   ]
  },
  {
   "cell_type": "code",
   "execution_count": 8,
   "metadata": {},
   "outputs": [],
   "source": [
    "score.show('musicxml')"
   ]
  },
  {
   "cell_type": "code",
   "execution_count": 12,
   "metadata": {},
   "outputs": [
    {
     "name": "stdout",
     "output_type": "stream",
     "text": [
      "[0, \"rgba(58, 127, 84, 0.4)\"],\n",
      "[1, \"rgba(82, 119, 181, 0.4)\"],\n",
      "[2, \"rgba(254, 217, 166, 0.4)\"],\n",
      "[3, \"rgba(84, 223, 39, 0.4)\"],\n",
      "[4, \"rgba(110, 149, 216, 0.4)\"],\n",
      "[5, \"rgba(27, 103, 81, 0.4)\"],\n",
      "[6, \"rgba(161, 214, 111, 0.4)\"],\n",
      "[7, \"rgba(134, 43, 73, 0.4)\"],\n",
      "[8, \"rgba(48, 67, 68, 0.4)\"],\n",
      "[9, \"rgba(46, 61, 193, 0.4)\"],\n",
      "[10, \"rgba(6, 209, 94, 0.4)\"],\n",
      "[11, \"rgba(51, 67, 2, 0.4)\"],\n",
      "[12, \"rgba(10, 226, 34, 0.4)\"],\n",
      "[13, \"rgba(127, 99, 203, 0.4)\"],\n",
      "[14, \"rgba(107, 26, 229, 0.4)\"],\n",
      "[15, \"rgba(229, 69, 59, 0.4)\"],\n",
      "[16, \"rgba(127, 44, 111, 0.4)\"],\n",
      "[17, \"rgba(44, 170, 166, 0.4)\"],\n",
      "[18, \"rgba(123, 77, 111, 0.4)\"],\n",
      "[19, \"rgba(119, 126, 56, 0.4)\"],\n",
      "[20, \"rgba(2, 82, 162, 0.4)\"],\n",
      "[21, \"rgba(156, 129, 101, 0.4)\"],\n",
      "[22, \"rgba(196, 148, 250, 0.4)\"],\n",
      "[23, \"rgba(50, 241, 226, 0.4)\"],\n",
      "[24, \"rgba(250, 29, 197, 0.4)\"],\n",
      "[25, \"rgba(215, 137, 138, 0.4)\"],\n",
      "[26, \"rgba(167, 170, 234, 0.4)\"],\n",
      "[27, \"rgba(27, 185, 60, 0.4)\"],\n",
      "[28, \"rgba(206, 58, 204, 0.4)\"],\n",
      "[29, \"rgba(81, 109, 34, 0.4)\"],\n",
      "[30, \"rgba(251, 113, 29, 0.4)\"],\n",
      "[31, \"rgba(104, 151, 248, 0.4)\"],\n",
      "[32, \"rgba(55, 99, 94, 0.4)\"],\n",
      "[33, \"rgba(125, 215, 95, 0.4)\"],\n",
      "[34, \"rgba(233, 96, 101, 0.4)\"],\n",
      "[35, \"rgba(6, 68, 118, 0.4)\"],\n",
      "[36, \"rgba(35, 123, 180, 0.4)\"],\n",
      "[37, \"rgba(34, 165, 165, 0.4)\"],\n",
      "[38, \"rgba(145, 111, 94, 0.4)\"],\n",
      "[39, \"rgba(94, 18, 113, 0.4)\"],\n",
      "[40, \"rgba(212, 42, 109, 0.4)\"],\n",
      "[41, \"rgba(98, 149, 132, 0.4)\"],\n",
      "[42, \"rgba(178, 42, 181, 0.4)\"],\n",
      "[43, \"rgba(206, 94, 215, 0.4)\"],\n",
      "[44, \"rgba(48, 13, 145, 0.4)\"],\n",
      "[45, \"rgba(146, 20, 34, 0.4)\"],\n",
      "[46, \"rgba(20, 210, 87, 0.4)\"],\n",
      "[47, \"rgba(15, 83, 102, 0.4)\"],\n",
      "[48, \"rgba(157, 149, 50, 0.4)\"],\n",
      "[49, \"rgba(192, 177, 22, 0.4)\"],\n",
      "[50, \"rgba(158, 96, 55, 0.4)\"],\n",
      "[51, \"rgba(122, 82, 184, 0.4)\"],\n",
      "[52, \"rgba(118, 73, 110, 0.4)\"],\n",
      "[53, \"rgba(155, 80, 78, 0.4)\"],\n",
      "[54, \"rgba(226, 107, 90, 0.4)\"],\n",
      "[55, \"rgba(118, 225, 106, 0.4)\"],\n",
      "[56, \"rgba(209, 205, 208, 0.4)\"],\n",
      "[57, \"rgba(121, 93, 252, 0.4)\"],\n",
      "[58, \"rgba(234, 88, 123, 0.4)\"],\n",
      "[59, \"rgba(163, 6, 80, 0.4)\"],\n",
      "[60, \"rgba(175, 201, 216, 0.4)\"],\n",
      "[61, \"rgba(51, 54, 25, 0.4)\"],\n",
      "[62, \"rgba(154, 15, 176, 0.4)\"],\n",
      "[63, \"rgba(230, 212, 230, 0.4)\"],\n",
      "[64, \"rgba(132, 79, 94, 0.4)\"],\n",
      "[65, \"rgba(136, 162, 11, 0.4)\"],\n",
      "[66, \"rgba(168, 186, 108, 0.4)\"],\n",
      "[67, \"rgba(122, 176, 199, 0.4)\"],\n",
      "[68, \"rgba(24, 46, 39, 0.4)\"],\n",
      "[69, \"rgba(196, 14, 67, 0.4)\"],\n",
      "[70, \"rgba(129, 96, 159, 0.4)\"],\n",
      "[71, \"rgba(118, 12, 19, 0.4)\"],\n",
      "[72, \"rgba(8, 66, 170, 0.4)\"],\n",
      "[73, \"rgba(210, 224, 78, 0.4)\"],\n",
      "[74, \"rgba(90, 190, 122, 0.4)\"],\n",
      "[75, \"rgba(208, 60, 142, 0.4)\"],\n",
      "[76, \"rgba(85, 156, 70, 0.4)\"],\n",
      "[77, \"rgba(111, 107, 5, 0.4)\"],\n",
      "[78, \"rgba(146, 13, 179, 0.4)\"],\n",
      "[79, \"rgba(4, 207, 151, 0.4)\"],\n",
      "[80, \"rgba(234, 170, 151, 0.4)\"],\n",
      "[81, \"rgba(17, 138, 92, 0.4)\"],\n",
      "[82, \"rgba(197, 211, 110, 0.4)\"],\n",
      "[83, \"rgba(221, 119, 19, 0.4)\"],\n",
      "[84, \"rgba(55, 182, 204, 0.4)\"],\n",
      "[85, \"rgba(143, 200, 83, 0.4)\"],\n",
      "[86, \"rgba(149, 156, 54, 0.4)\"],\n",
      "[87, \"rgba(126, 1, 2, 0.4)\"],\n",
      "[88, \"rgba(223, 130, 176, 0.4)\"],\n",
      "[89, \"rgba(157, 42, 75, 0.4)\"],\n",
      "[90, \"rgba(138, 54, 195, 0.4)\"],\n",
      "[91, \"rgba(48, 101, 160, 0.4)\"],\n",
      "[92, \"rgba(34, 137, 246, 0.4)\"],\n",
      "[93, \"rgba(10, 248, 150, 0.4)\"],\n",
      "[94, \"rgba(223, 125, 18, 0.4)\"],\n",
      "[95, \"rgba(226, 129, 189, 0.4)\"],\n",
      "[96, \"rgba(137, 232, 218, 0.4)\"],\n",
      "[97, \"rgba(146, 67, 182, 0.4)\"],\n",
      "[98, \"rgba(91, 75, 79, 0.4)\"],\n",
      "[99, \"rgba(13, 57, 215, 0.4)\"],\n"
     ]
    }
   ],
   "source": [
    "import random\n",
    "for i in range(100):\n",
    "    a = random.randint(0, 255)\n",
    "    b = random.randint(0, 255)\n",
    "    c = random.randint(0, 255)\n",
    "    print(f'[{i}, \"rgba({a}, {b}, {c}, 0.4)\"],')"
   ]
  },
  {
   "cell_type": "code",
   "execution_count": null,
   "metadata": {},
   "outputs": [],
   "source": []
  }
 ],
 "metadata": {
  "interpreter": {
   "hash": "31f2aee4e71d21fbe5cf8b01ff0e069b9275f58929596ceb00d14d90e3e16cd6"
  },
  "kernelspec": {
   "display_name": "Python 3.8.10 64-bit",
   "language": "python",
   "name": "python3"
  },
  "language_info": {
   "codemirror_mode": {
    "name": "ipython",
    "version": 3
   },
   "file_extension": ".py",
   "mimetype": "text/x-python",
   "name": "python",
   "nbconvert_exporter": "python",
   "pygments_lexer": "ipython3",
   "version": "3.9.6"
  },
  "orig_nbformat": 4
 },
 "nbformat": 4,
 "nbformat_minor": 2
}
