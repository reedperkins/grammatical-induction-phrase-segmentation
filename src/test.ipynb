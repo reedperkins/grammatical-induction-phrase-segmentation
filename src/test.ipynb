{
 "cells": [
  {
   "cell_type": "code",
   "execution_count": 1,
   "metadata": {},
   "outputs": [],
   "source": [
    "def concatify(grammar):\n",
    "    result = []\n",
    "    for _, rhs in grammar:\n",
    "        result.extend([*(rhs + ('#', ))])\n",
    "    return tuple(result)\n"
   ]
  },
  {
   "cell_type": "code",
   "execution_count": 2,
   "metadata": {},
   "outputs": [],
   "source": [
    "def subseqs(seq):\n",
    "    occurrences = {}\n",
    "    for i in range(2, len(seq)+1): # window size\n",
    "        for j in range(0, len(seq) - i + 1):\n",
    "            s = seq[j:j+i]\n",
    "            if s not in occurrences:\n",
    "                occurrences[s] = [j]\n",
    "            else:\n",
    "                if j > (occurrences[s][-1] + len(s) - 1):\n",
    "                    occurrences[s].append(j)\n",
    "    return occurrences"
   ]
  },
  {
   "cell_type": "code",
   "execution_count": 3,
   "metadata": {},
   "outputs": [
    {
     "name": "stdout",
     "output_type": "stream",
     "text": [
      "aa 2\n",
      "aaa 1\n",
      "aaaa 1\n"
     ]
    }
   ],
   "source": [
    "seq = 'aaaa'\n",
    "# seq = '0123456789ABCDEF&'\n",
    "for seq, occs in subseqs(seq).items():\n",
    "    print(seq, len(occs))"
   ]
  },
  {
   "cell_type": "code",
   "execution_count": 23,
   "metadata": {},
   "outputs": [],
   "source": [
    "from sequitur import sequitur\n",
    "from irr import repair, mostCompressive, longestFirst\n",
    "from lzw import lz78\n",
    "from grammar import stringifyGrammar, convertGrammarToAnnotation"
   ]
  },
  {
   "cell_type": "code",
   "execution_count": 24,
   "metadata": {},
   "outputs": [],
   "source": [
    "algorithms = [lz78, repair, mostCompressive, longestFirst, sequitur]"
   ]
  },
  {
   "cell_type": "code",
   "execution_count": 25,
   "metadata": {},
   "outputs": [
    {
     "name": "stdout",
     "output_type": "stream",
     "text": [
      "@0 -> @1,@2,@3,@4,@5,@6,@7,@8,@9,@10,@4\n",
      "@1 -> a\n",
      "@2 -> b\n",
      "@3 -> c\n",
      "@4 -> d\n",
      "@5 -> @1,b\n",
      "@6 -> g\n",
      "@7 -> e\n",
      "@8 -> @5,c\n",
      "@9 -> @7,a\n",
      "@10 -> @2,c\n",
      "[((0, 1), (4, 5), (8, 9), (12, 13)), ((1, 2), (5, 6), (9, 10), (13, 14)), ((2, 3), (10, 11), (14, 15)), ((3, 4), (15, 16)), ((0, 2), (4, 6), (8, 10), (12, 14)), ((6, 7),), ((7, 8), (11, 12)), ((0, 3), (8, 11), (12, 15)), ((7, 9), (11, 13)), ((1, 3), (9, 11), (13, 15))]\n",
      "(1, 2, 3, 4, 5, 6, 7, 8, 9, 10, 4, '#', 'a', '#', 'b', '#', 'c', '#', 'd', '#', 1, 'b', '#', 'g', '#', 'e', '#', 5, 'c', '#', 7, 'a', '#', 2, 'c', '#')\n",
      "lz78 2.25\n",
      "@0 -> @2,d,@1,g,e,@2,e,@2,d\n",
      "@1 -> a,b\n",
      "@2 -> @1,c\n",
      "[((0, 2), (4, 6), (8, 10), (12, 14)), ((0, 3), (8, 11), (12, 15))]\n",
      "(2, 'd', 1, 'g', 'e', 2, 'e', 2, 'd', '#', 'a', 'b', '#', 1, 'c', '#')\n",
      "repair 1.0\n",
      "@0 -> @1,d,a,b,g,e,@1,e,@1,d\n",
      "@1 -> a,b,c\n",
      "[((0, 3), (8, 11), (12, 15))]\n",
      "(1, 'd', 'a', 'b', 'g', 'e', 1, 'e', 1, 'd', '#', 'a', 'b', 'c', '#')\n",
      "mostCompressive 0.9375\n",
      "@0 -> @1,a,b,g,e,@2,e,@1\n",
      "@1 -> @2,d\n",
      "@2 -> a,b,c\n",
      "[((0, 4), (12, 16)), ((0, 3), (8, 11), (12, 15))]\n",
      "(1, 'a', 'b', 'g', 'e', 2, 'e', 1, '#', 2, 'd', '#', 'a', 'b', 'c', '#')\n",
      "longestFirst 1.0\n",
      "@0 -> @1,d,@2,g,@3,@3,d\n",
      "@1 -> @2,c\n",
      "@2 -> a,b\n",
      "@3 -> e,@1\n",
      "[((0, 3), (8, 11), (12, 15)), ((0, 2), (4, 6), (8, 10), (12, 14)), ((7, 11), (11, 15))]\n",
      "(1, 'd', 2, 'g', 3, 3, 'd', '#', 2, 'c', '#', 'a', 'b', '#', 'e', 1, '#')\n",
      "sequitur 1.0625\n"
     ]
    }
   ],
   "source": [
    "seq = 'abcdabgeabceabcd'\n",
    "# seq = 'abababababababab'\n",
    "\n",
    "for a in algorithms:\n",
    "    g = a(seq)\n",
    "    print(stringifyGrammar(g))\n",
    "    print(convertGrammarToAnnotation(g))\n",
    "    print(concatify(g))\n",
    "    print(a.__name__, len(concatify(g)) / len(seq))\n"
   ]
  },
  {
   "cell_type": "code",
   "execution_count": null,
   "metadata": {},
   "outputs": [],
   "source": [
    "# seq = 'abcdabgeabceabcd'\n",
    "seq = 'abababababababab'\n",
    "\n",
    "for a in algorithms:\n",
    "    g = a(seq)\n",
    "    print(stringifyGrammar(g))\n",
    "    print(concatify(g))\n",
    "    print(a.__name__, len(concatify(g)) / len(seq))"
   ]
  },
  {
   "cell_type": "code",
   "execution_count": 10,
   "metadata": {},
   "outputs": [],
   "source": [
    "def greedyIntersection(matchFn, threshold, P, Q):\n",
    "    '''Compute the intersection of two sets P and Q. Element equality is determined\n",
    "    using a score function and a threshold.'''\n",
    "    pMatched = [0]*len(P)\n",
    "    qMatched = [0]*len(Q)\n",
    "\n",
    "    for i, p in enumerate(P):\n",
    "        for j, q in enumerate(Q):\n",
    "            score = matchFn(p, q)\n",
    "            if score >= threshold:\n",
    "                pMatched[i] = 1\n",
    "                qMatched[j] = 1\n",
    "\n",
    "    return sum(pMatched), sum(qMatched)\n",
    "\n",
    "def generalScore(matchFn, P, Q):\n",
    "    allScores = []\n",
    "    for i, p in enumerate(P):\n",
    "        for j, q in enumerate(Q):\n",
    "            score = matchFn(p, q)\n",
    "            allScores.append(score)\n",
    "\n",
    "    return sum(allScores) / len(allScores)\n",
    "\n",
    "from main import compareLevenshteinStrict\n",
    "\n",
    "def cmpFn(P, Q, threshold):\n",
    "    return greedyIntersection(compareLevenshteinStrict, threshold, P, Q)\n",
    "\n",
    "def gScoreFn(P, Q):\n",
    "    return generalScore(compareLevenshteinStrict, P, Q)"
   ]
  },
  {
   "cell_type": "code",
   "execution_count": 8,
   "metadata": {},
   "outputs": [],
   "source": [
    "from common import gzPickleIter\n",
    "from viewpoint import createViewpointFn, duration, midi\n",
    "from grammar import convertGrammarToAnnotation"
   ]
  },
  {
   "cell_type": "code",
   "execution_count": 48,
   "metadata": {},
   "outputs": [],
   "source": [
    "\n",
    "viewpointFn = createViewpointFn([duration])\n",
    "# data = gzPickleIter('../datasets/hymns/hymns.pkl.gz')\n",
    "data = gzPickleIter('../datasets/essen/essen1000.pkl.gz')\n",
    "threshold = 0.7\n",
    "\n",
    "ratios = []\n",
    "f1s = []\n",
    "for d in data:\n",
    "    seq, gt, datasetName, index = d\n",
    "    vpSeq = tuple(viewpointFn(seq))\n",
    "    grammar = longestFirst(vpSeq)\n",
    "    discovered = convertGrammarToAnnotation(grammar)\n",
    "    P = [tuple(vpSeq[s:e] for s, e in p) for p in gt]\n",
    "    Q = [tuple(vpSeq[s:e] for s, e in p) for p in discovered]\n",
    "    if len(Q) == 0:\n",
    "        precision, recall = 0.0, 0.0\n",
    "        F1 = 0.0\n",
    "    else:\n",
    "        pMatched, qMatched = cmpFn(P, Q, threshold)\n",
    "        precision = qMatched / len(Q)\n",
    "        recall = pMatched / len(P)\n",
    "        if precision + recall == 0:\n",
    "            F1 = 0.0\n",
    "        else:\n",
    "            F1 = (2 * precision * recall) / (precision + recall)\n",
    "    ratios.append(len(concatify(grammar)) / len(seq))\n",
    "    f1s.append(F1)\n",
    "\n",
    "\n",
    "    "
   ]
  },
  {
   "cell_type": "code",
   "execution_count": 50,
   "metadata": {},
   "outputs": [
    {
     "name": "stdout",
     "output_type": "stream",
     "text": [
      "0.24275368377969775\n"
     ]
    },
    {
     "data": {
      "image/png": "[encoded data removed]",
      "text/plain": [
       "<Figure size 432x288 with 1 Axes>"
      ]
     },
     "metadata": {
      "needs_background": "light"
     },
     "output_type": "display_data"
    }
   ],
   "source": [
    "\n",
    "import matplotlib.pyplot as plt\n",
    "fig, ax = plt.subplots()\n",
    "ax.scatter(ratios, f1s)\n",
    "print(sum(f1s) /len(f1s))"
   ]
  },
  {
   "cell_type": "code",
   "execution_count": 21,
   "metadata": {},
   "outputs": [],
   "source": [
    "viewpointFn = createViewpointFn([duration])\n",
    "data = gzPickleIter('../datasets/hymns/hymns.pkl.gz')\n",
    "# data = gzPickleIter('../datasets/essen/essen1000.pkl.gz')\n",
    "# data = gzPickleIter('../datasets/jku/jku.pkl.gz')\n",
    "\n",
    "viewpointFn = createViewpointFn([duration])\n",
    "\n",
    "scores = []\n",
    "compRatios = []\n",
    "for i, d in enumerate(data):\n",
    "    seq, gt, datasetName, index = d\n",
    "    vpSeq = tuple(viewpointFn(seq))\n",
    "    for j, alg in enumerate([mostCompressive]):\n",
    "        # print(i, j)\n",
    "        grammar = alg(vpSeq)\n",
    "        cc = concatify(grammar)\n",
    "        discovered = convertGrammarToAnnotation(grammar)\n",
    "        P = [tuple(vpSeq[s:e] for s, e in p) for p in gt]\n",
    "        Q = [tuple(vpSeq[s:e] for s, e in p) for p in discovered]\n",
    "        if len(Q) == 0:\n",
    "            print('Q zero')\n",
    "            raise\n",
    "        score = gScoreFn(P, Q)\n",
    "        ratio = len(cc) / len(seq)\n",
    "        scores.append(score)\n",
    "        compRatios.append(ratio)"
   ]
  },
  {
   "cell_type": "code",
   "execution_count": 22,
   "metadata": {},
   "outputs": [
    {
     "data": {
      "text/plain": [
       "Text(0.5, 0, 'Compression Ratio')"
      ]
     },
     "execution_count": 22,
     "metadata": {},
     "output_type": "execute_result"
    },
    {
     "data": {
      "image/png": "[encoded data removed]",
      "text/plain": [
       "<Figure size 432x288 with 1 Axes>"
      ]
     },
     "metadata": {
      "needs_background": "light"
     },
     "output_type": "display_data"
    }
   ],
   "source": [
    "import matplotlib.pyplot as plt\n",
    "fig, ax = plt.subplots()\n",
    "ax.scatter(compRatios, scores)\n",
    "ax.set_ylabel('Avg. Edit Distance similarity')\n",
    "ax.set_xlabel('Compression Ratio')\n",
    "# ax.plot()\n"
   ]
  },
  {
   "cell_type": "code",
   "execution_count": 53,
   "metadata": {},
   "outputs": [
    {
     "name": "stdout",
     "output_type": "stream",
     "text": [
      "lzw 1.5770768572115426\n",
      "repair 0.6905222476904915\n",
      "mostCompressive 0.611797613439662\n",
      "longestFirst 0.6899867049295226\n",
      "sequitur 0.6255803381477434\n"
     ]
    }
   ],
   "source": [
    "def mean(iter):\n",
    "    return sum(iter) / len(iter)\n",
    "\n",
    "for alg, res in results.items():\n",
    "    print(alg, mean(res))"
   ]
  },
  {
   "cell_type": "code",
   "execution_count": 3,
   "metadata": {},
   "outputs": [
    {
     "name": "stdout",
     "output_type": "stream",
     "text": [
      "@0 -> @1,@2,@3,@4,@5,@2\n",
      "@1 -> a\n",
      "@2 -> @1,b\n",
      "@3 -> b\n",
      "@4 -> @2,a\n",
      "@5 -> @3,a\n"
     ]
    }
   ],
   "source": [
    "from lzw import lz78\n",
    "from grammar import stringifyGrammar\n",
    "\n",
    "seq = tuple('aabbababaab')\n",
    "result = lz78(seq)\n",
    "print(stringifyGrammar(result))"
   ]
  },
  {
   "cell_type": "code",
   "execution_count": null,
   "metadata": {},
   "outputs": [],
   "source": [
    "from main import greedyIntersection, compareLevenshteinStrict\n",
    "from lzw import l\n"
   ]
  }
 ],
 "metadata": {
  "interpreter": {
   "hash": "31f2aee4e71d21fbe5cf8b01ff0e069b9275f58929596ceb00d14d90e3e16cd6"
  },
  "kernelspec": {
   "display_name": "Python 3.8.10 64-bit",
   "language": "python",
   "name": "python3"
  },
  "language_info": {
   "codemirror_mode": {
    "name": "ipython",
    "version": 3
   },
   "file_extension": ".py",
   "mimetype": "text/x-python",
   "name": "python",
   "nbconvert_exporter": "python",
   "pygments_lexer": "ipython3",
   "version": "3.8.10"
  },
  "orig_nbformat": 4
 },
 "nbformat": 4,
 "nbformat_minor": 2
}
